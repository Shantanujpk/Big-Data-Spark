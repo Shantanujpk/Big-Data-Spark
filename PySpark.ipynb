{
 "cells": [
  {
   "cell_type": "code",
   "execution_count": 98,
   "id": "a8445036-beb6-40d2-8b9c-6bd3c84d937b",
   "metadata": {},
   "outputs": [
    {
     "name": "stdout",
     "output_type": "stream",
     "text": [
      "Spark version: 4.0.0\n"
     ]
    }
   ],
   "source": [
    "import os\n",
    "\n",
    "# Set Java 17 path\n",
    "os.environ[\"JAVA_HOME\"] = \"C:\\\\Program Files\\\\Java\\\\jdk-17\"\n",
    "os.environ[\"PATH\"] = os.environ[\"JAVA_HOME\"] + \"\\\\bin;\" + os.environ[\"PATH\"]\n",
    "\n",
    "from pyspark.sql import SparkSession\n",
    "\n",
    "spark = SparkSession.builder \\\n",
    "    .appName(\"MyLocalSparkSession\") \\\n",
    "    .master(\"local[*]\") \\\n",
    "    .getOrCreate()\n",
    "\n",
    "print(\"Spark version:\", spark.version)\n"
   ]
  },
  {
   "cell_type": "code",
   "execution_count": 99,
   "id": "39c4afd4-1861-4736-b739-288d59f2703c",
   "metadata": {},
   "outputs": [
    {
     "name": "stdout",
     "output_type": "stream",
     "text": [
      "+-----------------+-------------------+-----+\n",
      "|DEST_COUNTRY_NAME|ORIGIN_COUNTRY_NAME|count|\n",
      "+-----------------+-------------------+-----+\n",
      "|    United States|            Romania|    1|\n",
      "|    United States|            Ireland|  264|\n",
      "|    United States|              India|   69|\n",
      "|            Egypt|      United States|   24|\n",
      "|Equatorial Guinea|      United States|    1|\n",
      "+-----------------+-------------------+-----+\n",
      "only showing top 5 rows\n"
     ]
    }
   ],
   "source": [
    "df_Flight_Data = spark.read.csv(\"Flight_Data.csv\", header=True, inferSchema=True)\n",
    "df_Flight_Data.show(5)"
   ]
  },
  {
   "cell_type": "code",
   "execution_count": 100,
   "id": "5558ae18-f7d7-41e5-b1a5-314fbd53f0bc",
   "metadata": {},
   "outputs": [
    {
     "name": "stdout",
     "output_type": "stream",
     "text": [
      "root\n",
      " |-- DEST_COUNTRY_NAME: string (nullable = true)\n",
      " |-- ORIGIN_COUNTRY_NAME: string (nullable = true)\n",
      " |-- count: integer (nullable = true)\n",
      "\n"
     ]
    }
   ],
   "source": [
    "df_Flight_Data.printSchema()"
   ]
  },
  {
   "cell_type": "code",
   "execution_count": 101,
   "id": "eb36b357-5055-4e95-8f09-b6037e3876a2",
   "metadata": {},
   "outputs": [
    {
     "data": {
      "text/plain": [
       "['DEST_COUNTRY_NAME', 'ORIGIN_COUNTRY_NAME', 'count']"
      ]
     },
     "execution_count": 101,
     "metadata": {},
     "output_type": "execute_result"
    }
   ],
   "source": [
    "df_Flight_Data.columns"
   ]
  },
  {
   "cell_type": "code",
   "execution_count": 102,
   "id": "05d00722-bd46-4ea9-adfa-63336e5e8aed",
   "metadata": {},
   "outputs": [
    {
     "name": "stdout",
     "output_type": "stream",
     "text": [
      "+-----+\n",
      "|count|\n",
      "+-----+\n",
      "|    1|\n",
      "|  264|\n",
      "|   69|\n",
      "|   24|\n",
      "|    1|\n",
      "|   25|\n",
      "|   54|\n",
      "|  477|\n",
      "|   29|\n",
      "|   44|\n",
      "|   17|\n",
      "|   53|\n",
      "|    1|\n",
      "|   46|\n",
      "|   21|\n",
      "|  136|\n",
      "|    2|\n",
      "|    1|\n",
      "|  390|\n",
      "|  156|\n",
      "+-----+\n",
      "only showing top 20 rows\n"
     ]
    }
   ],
   "source": [
    "from pyspark.sql.functions import col\n",
    "\n",
    "df_Flight_Data.select(col('count')).show()"
   ]
  },
  {
   "cell_type": "code",
   "execution_count": 103,
   "id": "7dc20831-e7d4-41b6-aadf-9ededffde3e9",
   "metadata": {},
   "outputs": [
    {
     "name": "stdout",
     "output_type": "stream",
     "text": [
      "+--------------------+-------------------+\n",
      "|   DEST_COUNTRY_NAME|ORIGIN_COUNTRY_NAME|\n",
      "+--------------------+-------------------+\n",
      "|       United States|            Romania|\n",
      "|       United States|            Ireland|\n",
      "|       United States|              India|\n",
      "|               Egypt|      United States|\n",
      "|   Equatorial Guinea|      United States|\n",
      "|       United States|          Singapore|\n",
      "|       United States|            Grenada|\n",
      "|          Costa Rica|      United States|\n",
      "|             Senegal|      United States|\n",
      "|       United States|   Marshall Islands|\n",
      "|              Guyana|      United States|\n",
      "|       United States|       Sint Maarten|\n",
      "|               Malta|      United States|\n",
      "|             Bolivia|      United States|\n",
      "|            Anguilla|      United States|\n",
      "|Turks and Caicos ...|      United States|\n",
      "|       United States|        Afghanistan|\n",
      "|Saint Vincent and...|      United States|\n",
      "|               Italy|      United States|\n",
      "|       United States|             Russia|\n",
      "+--------------------+-------------------+\n",
      "only showing top 20 rows\n"
     ]
    }
   ],
   "source": [
    "df_Flight_Data.select(col('DEST_COUNTRY_NAME'),col('ORIGIN_COUNTRY_NAME')).show()"
   ]
  },
  {
   "cell_type": "code",
   "execution_count": 104,
   "id": "383e49b3-afc2-476e-adf9-9ffd0dd2c921",
   "metadata": {},
   "outputs": [
    {
     "name": "stdout",
     "output_type": "stream",
     "text": [
      "+--------------------+-------------------+\n",
      "|   DEST_COUNTRY_NAME|ORIGIN_COUNTRY_NAME|\n",
      "+--------------------+-------------------+\n",
      "|       United States|            Romania|\n",
      "|       United States|            Ireland|\n",
      "|       United States|              India|\n",
      "|               Egypt|      United States|\n",
      "|   Equatorial Guinea|      United States|\n",
      "|       United States|          Singapore|\n",
      "|       United States|            Grenada|\n",
      "|          Costa Rica|      United States|\n",
      "|             Senegal|      United States|\n",
      "|       United States|   Marshall Islands|\n",
      "|              Guyana|      United States|\n",
      "|       United States|       Sint Maarten|\n",
      "|               Malta|      United States|\n",
      "|             Bolivia|      United States|\n",
      "|            Anguilla|      United States|\n",
      "|Turks and Caicos ...|      United States|\n",
      "|       United States|        Afghanistan|\n",
      "|Saint Vincent and...|      United States|\n",
      "|               Italy|      United States|\n",
      "|       United States|             Russia|\n",
      "+--------------------+-------------------+\n",
      "only showing top 20 rows\n"
     ]
    }
   ],
   "source": [
    "df_Flight_Data.select('DEST_COUNTRY_NAME','ORIGIN_COUNTRY_NAME').show()"
   ]
  },
  {
   "cell_type": "code",
   "execution_count": 105,
   "id": "f9462d4d-2e8e-42ca-aa09-acab54813bac",
   "metadata": {},
   "outputs": [
    {
     "name": "stdout",
     "output_type": "stream",
     "text": [
      "+------------+\n",
      "|(count + 10)|\n",
      "+------------+\n",
      "|          11|\n",
      "|         274|\n",
      "|          79|\n",
      "|          34|\n",
      "|          11|\n",
      "|          35|\n",
      "|          64|\n",
      "|         487|\n",
      "|          39|\n",
      "|          54|\n",
      "|          27|\n",
      "|          63|\n",
      "|          11|\n",
      "|          56|\n",
      "|          31|\n",
      "|         146|\n",
      "|          12|\n",
      "|          11|\n",
      "|         400|\n",
      "|         166|\n",
      "+------------+\n",
      "only showing top 20 rows\n"
     ]
    }
   ],
   "source": [
    "from pyspark.sql.functions import expr\n",
    "#expr() lets you write SQL-like expressions inside DataFrame transformations.\n",
    "df_Flight_Data.select(expr(\"count + 10\")).show()"
   ]
  },
  {
   "cell_type": "code",
   "execution_count": 106,
   "id": "ecdfc630-12c4-41dd-b296-de9fac842be5",
   "metadata": {},
   "outputs": [
    {
     "name": "stdout",
     "output_type": "stream",
     "text": [
      "+----------+--------------------+\n",
      "|Total_Trip|         Destination|\n",
      "+----------+--------------------+\n",
      "|         1|       United States|\n",
      "|       264|       United States|\n",
      "|        69|       United States|\n",
      "|        24|               Egypt|\n",
      "|         1|   Equatorial Guinea|\n",
      "|        25|       United States|\n",
      "|        54|       United States|\n",
      "|       477|          Costa Rica|\n",
      "|        29|             Senegal|\n",
      "|        44|       United States|\n",
      "|        17|              Guyana|\n",
      "|        53|       United States|\n",
      "|         1|               Malta|\n",
      "|        46|             Bolivia|\n",
      "|        21|            Anguilla|\n",
      "|       136|Turks and Caicos ...|\n",
      "|         2|       United States|\n",
      "|         1|Saint Vincent and...|\n",
      "|       390|               Italy|\n",
      "|       156|       United States|\n",
      "+----------+--------------------+\n",
      "only showing top 20 rows\n"
     ]
    }
   ],
   "source": [
    "df_Flight_Data.select(expr(\"count as Total_Trip\"),expr('DEST_COUNTRY_NAME as Destination')).show()"
   ]
  },
  {
   "cell_type": "markdown",
   "id": "2c2a8b2c-2311-417b-8f14-9b8093c11595",
   "metadata": {},
   "source": [
    "# Spark SQL"
   ]
  },
  {
   "cell_type": "markdown",
   "id": "14d39522-7f3c-420e-b7f6-9d28b455d531",
   "metadata": {},
   "source": [
    "Steps:\n",
    "Convert the data frame to temp view \n",
    "call sparl.sql () and inside the bcarket add your normal sql query "
   ]
  },
  {
   "cell_type": "code",
   "execution_count": 107,
   "id": "fb6d6158-b966-40d2-85fc-6963cd93fb9d",
   "metadata": {},
   "outputs": [],
   "source": [
    "df_Flight_Data.createOrReplaceTempView('FlightTable')"
   ]
  },
  {
   "cell_type": "code",
   "execution_count": 108,
   "id": "655c8a12-285e-448a-8704-ad94a2dccb8f",
   "metadata": {},
   "outputs": [
    {
     "name": "stdout",
     "output_type": "stream",
     "text": [
      "+--------------------+-------------------+-----+\n",
      "|   DEST_COUNTRY_NAME|ORIGIN_COUNTRY_NAME|count|\n",
      "+--------------------+-------------------+-----+\n",
      "|       United States|            Romania|    1|\n",
      "|       United States|            Ireland|  264|\n",
      "|       United States|              India|   69|\n",
      "|               Egypt|      United States|   24|\n",
      "|   Equatorial Guinea|      United States|    1|\n",
      "|       United States|          Singapore|   25|\n",
      "|       United States|            Grenada|   54|\n",
      "|          Costa Rica|      United States|  477|\n",
      "|             Senegal|      United States|   29|\n",
      "|       United States|   Marshall Islands|   44|\n",
      "|              Guyana|      United States|   17|\n",
      "|       United States|       Sint Maarten|   53|\n",
      "|               Malta|      United States|    1|\n",
      "|             Bolivia|      United States|   46|\n",
      "|            Anguilla|      United States|   21|\n",
      "|Turks and Caicos ...|      United States|  136|\n",
      "|       United States|        Afghanistan|    2|\n",
      "|Saint Vincent and...|      United States|    1|\n",
      "|               Italy|      United States|  390|\n",
      "|       United States|             Russia|  156|\n",
      "+--------------------+-------------------+-----+\n",
      "only showing top 20 rows\n"
     ]
    }
   ],
   "source": [
    "spark.sql (\"\"\"\n",
    "select * from FlightTable\n",
    "\"\"\").show()"
   ]
  },
  {
   "cell_type": "markdown",
   "id": "58df7cf3-9d34-4440-baf0-317dfa110ee8",
   "metadata": {},
   "source": [
    "# Alies "
   ]
  },
  {
   "cell_type": "code",
   "execution_count": 109,
   "id": "4018fa9e-c7f6-4855-990b-67911a65dd8a",
   "metadata": {},
   "outputs": [
    {
     "name": "stdout",
     "output_type": "stream",
     "text": [
      "+-----------+\n",
      "|Total Count|\n",
      "+-----------+\n",
      "|          1|\n",
      "|        264|\n",
      "|         69|\n",
      "|         24|\n",
      "|          1|\n",
      "|         25|\n",
      "|         54|\n",
      "|        477|\n",
      "|         29|\n",
      "|         44|\n",
      "|         17|\n",
      "|         53|\n",
      "|          1|\n",
      "|         46|\n",
      "|         21|\n",
      "|        136|\n",
      "|          2|\n",
      "|          1|\n",
      "|        390|\n",
      "|        156|\n",
      "+-----------+\n",
      "only showing top 20 rows\n"
     ]
    }
   ],
   "source": [
    "from pyspark.sql.functions import col\n",
    "df_Flight_Data.select(col('count').alias('Total Count')).show()"
   ]
  },
  {
   "cell_type": "markdown",
   "id": "50a871c3-d99c-4f67-bfb7-fff8343e89f4",
   "metadata": {},
   "source": [
    "# Filter\n"
   ]
  },
  {
   "cell_type": "code",
   "execution_count": 110,
   "id": "6b724ab5-4676-4cc9-8828-28fccb4f562c",
   "metadata": {},
   "outputs": [
    {
     "name": "stdout",
     "output_type": "stream",
     "text": [
      "+-----------------+--------------------+-----+\n",
      "|DEST_COUNTRY_NAME| ORIGIN_COUNTRY_NAME|count|\n",
      "+-----------------+--------------------+-----+\n",
      "|    United States|             Romania|    1|\n",
      "|    United States|             Ireland|  264|\n",
      "|    United States|               India|   69|\n",
      "|    United States|           Singapore|   25|\n",
      "|    United States|             Grenada|   54|\n",
      "|    United States|    Marshall Islands|   44|\n",
      "|    United States|        Sint Maarten|   53|\n",
      "|    United States|         Afghanistan|    2|\n",
      "|    United States|              Russia|  156|\n",
      "|    United States|Federated States ...|   48|\n",
      "|    United States|         Netherlands|  570|\n",
      "|    United States|             Senegal|   46|\n",
      "|    United States|              Angola|   18|\n",
      "|    United States|            Anguilla|   20|\n",
      "|    United States|             Ecuador|  345|\n",
      "|    United States|              Cyprus|    1|\n",
      "|    United States|Bosnia and Herzeg...|    1|\n",
      "|    United States|            Portugal|  104|\n",
      "|    United States|          Costa Rica|  501|\n",
      "|    United States|           Guatemala|  333|\n",
      "+-----------------+--------------------+-----+\n",
      "only showing top 20 rows\n"
     ]
    }
   ],
   "source": [
    "df_Flight_Data.filter(col('DEST_COUNTRY_NAME') == 'United States').show()"
   ]
  },
  {
   "cell_type": "code",
   "execution_count": 111,
   "id": "3810af74-98a9-4c5a-971e-5b52d63880e6",
   "metadata": {},
   "outputs": [
    {
     "name": "stdout",
     "output_type": "stream",
     "text": [
      "+-----------------+-------------------+------+\n",
      "|DEST_COUNTRY_NAME|ORIGIN_COUNTRY_NAME| count|\n",
      "+-----------------+-------------------+------+\n",
      "|    United States|            Ireland|   264|\n",
      "|    United States|              India|    69|\n",
      "|    United States|            Grenada|    54|\n",
      "|    United States|       Sint Maarten|    53|\n",
      "|    United States|             Russia|   156|\n",
      "|    United States|        Netherlands|   570|\n",
      "|    United States|            Ecuador|   345|\n",
      "|    United States|           Portugal|   104|\n",
      "|    United States|         Costa Rica|   501|\n",
      "|    United States|          Guatemala|   333|\n",
      "|    United States|            Jamaica|   757|\n",
      "|    United States|          Venezuela|   341|\n",
      "|    United States|              Chile|   176|\n",
      "|    United States|             Greece|    61|\n",
      "|    United States|        The Bahamas|   959|\n",
      "|    United States|          Hong Kong|   293|\n",
      "|    United States|              China|   505|\n",
      "|    United States| Dominican Republic|  1150|\n",
      "|    United States|      United States|348113|\n",
      "|    United States|         Luxembourg|    90|\n",
      "+-----------------+-------------------+------+\n",
      "only showing top 20 rows\n"
     ]
    }
   ],
   "source": [
    "df_Flight_Data.filter((col('DEST_COUNTRY_NAME') == 'United States') & (col('count') >50)).show()"
   ]
  },
  {
   "cell_type": "markdown",
   "id": "55396286-456b-4ca8-8fd8-24edb21d8eca",
   "metadata": {},
   "source": [
    "# Literal"
   ]
  },
  {
   "cell_type": "code",
   "execution_count": 112,
   "id": "e65981bd-f1bd-4314-b33b-5f5e1dac8cd0",
   "metadata": {},
   "outputs": [],
   "source": [
    "# when we need to pass same value in the data (like addging by default value)"
   ]
  },
  {
   "cell_type": "code",
   "execution_count": 113,
   "id": "e823e180-2f80-47ef-9cfe-95eab8e0fde1",
   "metadata": {},
   "outputs": [
    {
     "name": "stdout",
     "output_type": "stream",
     "text": [
      "+--------------------+-------------------+-----+-------+\n",
      "|   DEST_COUNTRY_NAME|ORIGIN_COUNTRY_NAME|count|  class|\n",
      "+--------------------+-------------------+-----+-------+\n",
      "|       United States|            Romania|    1|Economy|\n",
      "|       United States|            Ireland|  264|Economy|\n",
      "|       United States|              India|   69|Economy|\n",
      "|               Egypt|      United States|   24|Economy|\n",
      "|   Equatorial Guinea|      United States|    1|Economy|\n",
      "|       United States|          Singapore|   25|Economy|\n",
      "|       United States|            Grenada|   54|Economy|\n",
      "|          Costa Rica|      United States|  477|Economy|\n",
      "|             Senegal|      United States|   29|Economy|\n",
      "|       United States|   Marshall Islands|   44|Economy|\n",
      "|              Guyana|      United States|   17|Economy|\n",
      "|       United States|       Sint Maarten|   53|Economy|\n",
      "|               Malta|      United States|    1|Economy|\n",
      "|             Bolivia|      United States|   46|Economy|\n",
      "|            Anguilla|      United States|   21|Economy|\n",
      "|Turks and Caicos ...|      United States|  136|Economy|\n",
      "|       United States|        Afghanistan|    2|Economy|\n",
      "|Saint Vincent and...|      United States|    1|Economy|\n",
      "|               Italy|      United States|  390|Economy|\n",
      "|       United States|             Russia|  156|Economy|\n",
      "+--------------------+-------------------+-----+-------+\n",
      "only showing top 20 rows\n"
     ]
    }
   ],
   "source": [
    "from pyspark.sql.functions import lit\n",
    "\n",
    "df_Flight_Data.select('*', lit('Economy').alias('class')).show()\n",
    "# use case , can be used in if else , if value is not there add null "
   ]
  },
  {
   "cell_type": "markdown",
   "id": "ba4f6afe-6348-4028-96cb-d896c8094df0",
   "metadata": {},
   "source": [
    "# ADDING COLUMN\n",
    "# WITHCOLUMN  - Modify or add new column "
   ]
  },
  {
   "cell_type": "code",
   "execution_count": 114,
   "id": "9dd6011a-8633-4a8c-90a5-15edec3ba7ab",
   "metadata": {},
   "outputs": [
    {
     "name": "stdout",
     "output_type": "stream",
     "text": [
      "+--------------------+-------------------+-----+-----+\n",
      "|   DEST_COUNTRY_NAME|ORIGIN_COUNTRY_NAME|count|Price|\n",
      "+--------------------+-------------------+-----+-----+\n",
      "|       United States|            Romania|    1|90000|\n",
      "|       United States|            Ireland|  264|90000|\n",
      "|       United States|              India|   69|90000|\n",
      "|               Egypt|      United States|   24|90000|\n",
      "|   Equatorial Guinea|      United States|    1|90000|\n",
      "|       United States|          Singapore|   25|90000|\n",
      "|       United States|            Grenada|   54|90000|\n",
      "|          Costa Rica|      United States|  477|90000|\n",
      "|             Senegal|      United States|   29|90000|\n",
      "|       United States|   Marshall Islands|   44|90000|\n",
      "|              Guyana|      United States|   17|90000|\n",
      "|       United States|       Sint Maarten|   53|90000|\n",
      "|               Malta|      United States|    1|90000|\n",
      "|             Bolivia|      United States|   46|90000|\n",
      "|            Anguilla|      United States|   21|90000|\n",
      "|Turks and Caicos ...|      United States|  136|90000|\n",
      "|       United States|        Afghanistan|    2|90000|\n",
      "|Saint Vincent and...|      United States|    1|90000|\n",
      "|               Italy|      United States|  390|90000|\n",
      "|       United States|             Russia|  156|90000|\n",
      "+--------------------+-------------------+-----+-----+\n",
      "only showing top 20 rows\n"
     ]
    }
   ],
   "source": [
    "new_df = df_Flight_Data.withColumn('Price',lit('90000')).show()"
   ]
  },
  {
   "cell_type": "markdown",
   "id": "9e6f3161-c352-46da-8f8d-b91d8ecaf6c0",
   "metadata": {},
   "source": [
    "# Rename Column"
   ]
  },
  {
   "cell_type": "code",
   "execution_count": 115,
   "id": "3ac18ad9-7624-42a3-8a13-6bf9766ed0d6",
   "metadata": {},
   "outputs": [
    {
     "name": "stdout",
     "output_type": "stream",
     "text": [
      "+--------------------+-------------------+-----+\n",
      "|   DEST_COUNTRY_NAME|ORIGIN_COUNTRY_NAME|count|\n",
      "+--------------------+-------------------+-----+\n",
      "|       United States|            Romania|    1|\n",
      "|       United States|            Ireland|  264|\n",
      "|       United States|              India|   69|\n",
      "|               Egypt|      United States|   24|\n",
      "|   Equatorial Guinea|      United States|    1|\n",
      "|       United States|          Singapore|   25|\n",
      "|       United States|            Grenada|   54|\n",
      "|          Costa Rica|      United States|  477|\n",
      "|             Senegal|      United States|   29|\n",
      "|       United States|   Marshall Islands|   44|\n",
      "|              Guyana|      United States|   17|\n",
      "|       United States|       Sint Maarten|   53|\n",
      "|               Malta|      United States|    1|\n",
      "|             Bolivia|      United States|   46|\n",
      "|            Anguilla|      United States|   21|\n",
      "|Turks and Caicos ...|      United States|  136|\n",
      "|       United States|        Afghanistan|    2|\n",
      "|Saint Vincent and...|      United States|    1|\n",
      "|               Italy|      United States|  390|\n",
      "|       United States|             Russia|  156|\n",
      "+--------------------+-------------------+-----+\n",
      "only showing top 20 rows\n"
     ]
    }
   ],
   "source": [
    "df_Flight_Data.show()"
   ]
  },
  {
   "cell_type": "code",
   "execution_count": 116,
   "id": "3a6f2ddc-124a-4784-b88b-aecded5dca9f",
   "metadata": {},
   "outputs": [
    {
     "name": "stdout",
     "output_type": "stream",
     "text": [
      "+--------------------+-------------------+----+\n",
      "|   DEST_COUNTRY_NAME|ORIGIN_COUNTRY_NAME|Trip|\n",
      "+--------------------+-------------------+----+\n",
      "|       United States|            Romania|   1|\n",
      "|       United States|            Ireland| 264|\n",
      "|       United States|              India|  69|\n",
      "|               Egypt|      United States|  24|\n",
      "|   Equatorial Guinea|      United States|   1|\n",
      "|       United States|          Singapore|  25|\n",
      "|       United States|            Grenada|  54|\n",
      "|          Costa Rica|      United States| 477|\n",
      "|             Senegal|      United States|  29|\n",
      "|       United States|   Marshall Islands|  44|\n",
      "|              Guyana|      United States|  17|\n",
      "|       United States|       Sint Maarten|  53|\n",
      "|               Malta|      United States|   1|\n",
      "|             Bolivia|      United States|  46|\n",
      "|            Anguilla|      United States|  21|\n",
      "|Turks and Caicos ...|      United States| 136|\n",
      "|       United States|        Afghanistan|   2|\n",
      "|Saint Vincent and...|      United States|   1|\n",
      "|               Italy|      United States| 390|\n",
      "|       United States|             Russia| 156|\n",
      "+--------------------+-------------------+----+\n",
      "only showing top 20 rows\n",
      "root\n",
      " |-- DEST_COUNTRY_NAME: string (nullable = true)\n",
      " |-- ORIGIN_COUNTRY_NAME: string (nullable = true)\n",
      " |-- count: integer (nullable = true)\n",
      "\n"
     ]
    }
   ],
   "source": [
    "df_Flight_Data.withColumnRenamed('Count','Trip').show()\n",
    "df_Flight_Data.printSchema()"
   ]
  },
  {
   "cell_type": "markdown",
   "id": "2773519f-9730-4fb9-b936-6b3df68d1653",
   "metadata": {},
   "source": [
    "# TypeCasting "
   ]
  },
  {
   "cell_type": "code",
   "execution_count": 117,
   "id": "e6c65db3-584e-48a9-acfa-7d7e7075f736",
   "metadata": {},
   "outputs": [
    {
     "name": "stdout",
     "output_type": "stream",
     "text": [
      "root\n",
      " |-- DEST_COUNTRY_NAME: string (nullable = true)\n",
      " |-- ORIGIN_COUNTRY_NAME: string (nullable = true)\n",
      " |-- count: string (nullable = true)\n",
      "\n"
     ]
    }
   ],
   "source": [
    "df_Flight_Data.withColumn('count',col('count').cast(\"string\")).printSchema()"
   ]
  },
  {
   "cell_type": "markdown",
   "id": "91401c13-15d1-4b63-9ac1-756b60777493",
   "metadata": {},
   "source": [
    "# Removing Column "
   ]
  },
  {
   "cell_type": "code",
   "execution_count": 118,
   "id": "72090e71-8d80-4347-84c8-534bc6719606",
   "metadata": {},
   "outputs": [
    {
     "name": "stdout",
     "output_type": "stream",
     "text": [
      "+--------------------+-------------------+\n",
      "|   DEST_COUNTRY_NAME|ORIGIN_COUNTRY_NAME|\n",
      "+--------------------+-------------------+\n",
      "|       United States|            Romania|\n",
      "|       United States|            Ireland|\n",
      "|       United States|              India|\n",
      "|               Egypt|      United States|\n",
      "|   Equatorial Guinea|      United States|\n",
      "|       United States|          Singapore|\n",
      "|       United States|            Grenada|\n",
      "|          Costa Rica|      United States|\n",
      "|             Senegal|      United States|\n",
      "|       United States|   Marshall Islands|\n",
      "|              Guyana|      United States|\n",
      "|       United States|       Sint Maarten|\n",
      "|               Malta|      United States|\n",
      "|             Bolivia|      United States|\n",
      "|            Anguilla|      United States|\n",
      "|Turks and Caicos ...|      United States|\n",
      "|       United States|        Afghanistan|\n",
      "|Saint Vincent and...|      United States|\n",
      "|               Italy|      United States|\n",
      "|       United States|             Russia|\n",
      "+--------------------+-------------------+\n",
      "only showing top 20 rows\n"
     ]
    }
   ],
   "source": [
    "df_Flight_Data.drop(col('count')).show()"
   ]
  },
  {
   "cell_type": "code",
   "execution_count": 119,
   "id": "e01dce7f-c9d1-47c3-9935-e590c9e53d6a",
   "metadata": {},
   "outputs": [],
   "source": [
    "sparkSql = df_Flight_Data.createOrReplaceTempView('FlightTable1')"
   ]
  },
  {
   "cell_type": "code",
   "execution_count": 120,
   "id": "22f7733c-eff3-4e0c-b2c1-b8a0e02b9728",
   "metadata": {},
   "outputs": [
    {
     "name": "stdout",
     "output_type": "stream",
     "text": [
      "+----+\n",
      "|Trip|\n",
      "+----+\n",
      "|  24|\n",
      "+----+\n",
      "\n"
     ]
    }
   ],
   "source": [
    "spark.sql(\n",
    "     '''\n",
    "     select count as Trip from FlightTable1 where DEST_COUNTRY_NAME = 'Egypt' or 'ORIGIN_COUNTRY_NAME' = 'United States'\n",
    "     '''\n",
    ").show()"
   ]
  },
  {
   "cell_type": "markdown",
   "id": "6c309384-8df2-4ded-ae16-e2c278a45b4b",
   "metadata": {},
   "source": [
    "# Union / Union All / Union By Name"
   ]
  },
  {
   "cell_type": "code",
   "execution_count": 121,
   "id": "ad287a56-df67-43c3-99b3-7b16fd21684f",
   "metadata": {},
   "outputs": [],
   "source": [
    "from pyspark.sql.types import StructType, StructField, IntegerType, StringType\n",
    "\n",
    "schema = StructType([\n",
    "    StructField(\"id\", IntegerType(), True),\n",
    "    StructField(\"name\", StringType(), True),\n",
    "    StructField(\"salary\", IntegerType(), True),\n",
    "    StructField(\"dept_id\", IntegerType(), True)\n",
    "])\n",
    "\n",
    "# ✅ df1\n",
    "data = [\n",
    "    (10, 'Anil', 50000, 18),\n",
    "    (11, 'Vikas', 75000, 16),\n",
    "    (12, 'Nisha', 40000, 18),\n",
    "    (13, 'Nidhi', 60000, 17),\n",
    "    (14, 'Priya', 80000, 18),\n",
    "    (15, 'Mohit', 45000, 18),\n",
    "    (16, 'Rajesh', 90000, 10),\n",
    "    (17, 'Raman', 55000, 16),\n",
    "    (18, 'Sam', 65000, 17)\n",
    "]\n",
    "df1 = spark.createDataFrame(data, schema)\n",
    "\n",
    "# ✅ df2 (same schema, can be used for union or unionAll)\n",
    "data1 = [\n",
    "    (19, 'Sohan', 50000, 18),\n",
    "    (20, 'Sima', 75000, 17)\n",
    "]\n",
    "df2 = spark.createDataFrame(data1, schema)\n",
    "\n",
    "# ✅ df3_wrong_col_order (same values but different column order, for unionByName)\n",
    "wrong_column_data = [\n",
    "    (19, 50000, 18, 'Sohan'),\n",
    "    (20, 75000, 17, 'Sima')\n",
    "]\n",
    "# Note the changed column order in schema\n",
    "wrong_schema = StructType([\n",
    "    StructField(\"id\", IntegerType(), True),\n",
    "    StructField(\"salary\", IntegerType(), True),\n",
    "    StructField(\"dept_id\", IntegerType(), True),\n",
    "    StructField(\"name\", StringType(), True)\n",
    "])\n",
    "df3_wrong_col_order = spark.createDataFrame(wrong_column_data, wrong_schema)\n",
    "\n",
    "# ✅ df4_extra_column (extra column → to demonstrate schema mismatch error)\n",
    "extra_column_data = [\n",
    "    (19, 50000, 18, 'Sohan', 10),\n",
    "    (20, 75000, 17, 'Sima', 20)\n",
    "]\n",
    "extra_schema = StructType([\n",
    "    StructField(\"id\", IntegerType(), True),\n",
    "    StructField(\"salary\", IntegerType(), True),\n",
    "    StructField(\"dept_id\", IntegerType(), True),\n",
    "    StructField(\"name\", StringType(), True),\n",
    "    StructField(\"bonus\", IntegerType(), True)\n",
    "])\n",
    "df4_extra_column = spark.createDataFrame(extra_column_data, extra_schema)"
   ]
  },
  {
   "cell_type": "code",
   "execution_count": 122,
   "id": "2844d912-5512-4187-861e-3e8f529fa990",
   "metadata": {},
   "outputs": [],
   "source": [
    "\n",
    "\n",
    "# # Union (same schema)\n",
    "# df1.union(df2).show()\n",
    "\n",
    "# # Union By Name (works even if columns are ordered differently)\n",
    "# df1.unionByName(df3_wrong_col_order).show()\n",
    "\n",
    "# # This will cause error: schema mismatch\n",
    "# df1.union(df4_extra_column).show()  # ❌ Error: differing column count\n",
    "# # so in this case we can select column manually and then we can perform the union operation"
   ]
  },
  {
   "cell_type": "code",
   "execution_count": null,
   "id": "d975bf48-2588-4bf8-b5d3-72dda74d33f7",
   "metadata": {},
   "outputs": [],
   "source": []
  },
  {
   "cell_type": "markdown",
   "id": "dfca716a-60d2-49c0-b6f8-924b4ae12708",
   "metadata": {},
   "source": [
    "# Repartition and Coalesec "
   ]
  },
  {
   "cell_type": "code",
   "execution_count": 123,
   "id": "c3b266c9-a54c-487b-b465-2035e9fa9c6d",
   "metadata": {},
   "outputs": [
    {
     "name": "stdout",
     "output_type": "stream",
     "text": [
      "+--------------------+-------------------+-----+\n",
      "|   DEST_COUNTRY_NAME|ORIGIN_COUNTRY_NAME|count|\n",
      "+--------------------+-------------------+-----+\n",
      "|       United States|            Romania|    1|\n",
      "|       United States|            Ireland|  264|\n",
      "|       United States|              India|   69|\n",
      "|               Egypt|      United States|   24|\n",
      "|   Equatorial Guinea|      United States|    1|\n",
      "|       United States|          Singapore|   25|\n",
      "|       United States|            Grenada|   54|\n",
      "|          Costa Rica|      United States|  477|\n",
      "|             Senegal|      United States|   29|\n",
      "|       United States|   Marshall Islands|   44|\n",
      "|              Guyana|      United States|   17|\n",
      "|       United States|       Sint Maarten|   53|\n",
      "|               Malta|      United States|    1|\n",
      "|             Bolivia|      United States|   46|\n",
      "|            Anguilla|      United States|   21|\n",
      "|Turks and Caicos ...|      United States|  136|\n",
      "|       United States|        Afghanistan|    2|\n",
      "|Saint Vincent and...|      United States|    1|\n",
      "|               Italy|      United States|  390|\n",
      "|       United States|             Russia|  156|\n",
      "+--------------------+-------------------+-----+\n",
      "only showing top 20 rows\n"
     ]
    }
   ],
   "source": [
    "df_Flight_Data.show()"
   ]
  },
  {
   "cell_type": "code",
   "execution_count": 124,
   "id": "50d1669f-13ce-4408-945b-13a0e4fc8366",
   "metadata": {},
   "outputs": [
    {
     "data": {
      "text/plain": [
       "255"
      ]
     },
     "execution_count": 124,
     "metadata": {},
     "output_type": "execute_result"
    }
   ],
   "source": [
    "df_Flight_Data.count()"
   ]
  },
  {
   "cell_type": "code",
   "execution_count": 125,
   "id": "ea8191c8-f3c5-4021-a4d6-ab928c4932e3",
   "metadata": {},
   "outputs": [
    {
     "data": {
      "text/plain": [
       "1"
      ]
     },
     "execution_count": 125,
     "metadata": {},
     "output_type": "execute_result"
    }
   ],
   "source": [
    "# to get the partition we need to convert it to RDD first \n",
    "df_Flight_Data.rdd.getNumPartitions()"
   ]
  },
  {
   "cell_type": "code",
   "execution_count": 126,
   "id": "c4d815ff-6690-4371-9d54-99767bf86fb3",
   "metadata": {},
   "outputs": [],
   "source": [
    "# now we will makle 4 partitions \n",
    "df_Flight_Data_partitions= df_Flight_Data.repartition(4)"
   ]
  },
  {
   "cell_type": "code",
   "execution_count": 127,
   "id": "2b87a679-0747-48fc-941e-c15fc0991cae",
   "metadata": {},
   "outputs": [
    {
     "name": "stdout",
     "output_type": "stream",
     "text": [
      "+-----------+-----+\n",
      "|PartitionID|count|\n",
      "+-----------+-----+\n",
      "|          0|   63|\n",
      "|          1|   64|\n",
      "|          2|   64|\n",
      "|          3|   64|\n",
      "+-----------+-----+\n",
      "\n"
     ]
    }
   ],
   "source": [
    "# check how the allocation happned \n",
    "from pyspark.sql.functions import spark_partition_id\n",
    "\n",
    "df_Flight_Data_partitions.withColumn(\"PartitionID\",spark_partition_id()).groupBy(\"PartitionID\").count().show()\n",
    "# Evenly Disrtributed"
   ]
  },
  {
   "cell_type": "code",
   "execution_count": 128,
   "id": "ec44bb69-fc37-48ff-9acc-4c2a988aea5a",
   "metadata": {},
   "outputs": [],
   "source": [
    "# we can also create partition based on columns and also give number of partitions we need, if there is no value then null will be assigned \n",
    "\n",
    "partitioned_by_column= df_Flight_Data.repartition(300,'ORIGIN_COUNTRY_NAME')\n",
    "\n"
   ]
  },
  {
   "cell_type": "code",
   "execution_count": 129,
   "id": "5557b2f5-7457-4b47-9093-976d638d359a",
   "metadata": {},
   "outputs": [
    {
     "data": {
      "text/plain": [
       "300"
      ]
     },
     "execution_count": 129,
     "metadata": {},
     "output_type": "execute_result"
    }
   ],
   "source": [
    "partitioned_by_column.rdd.getNumPartitions()"
   ]
  },
  {
   "cell_type": "code",
   "execution_count": 130,
   "id": "82337b66-994f-4feb-8fd6-aa769cf8e120",
   "metadata": {},
   "outputs": [
    {
     "name": "stdout",
     "output_type": "stream",
     "text": [
      "+-----------+-----+\n",
      "|PartitionID|count|\n",
      "+-----------+-----+\n",
      "|          0|    1|\n",
      "|          2|    1|\n",
      "|          7|    1|\n",
      "|         10|    1|\n",
      "|         13|    1|\n",
      "|         15|    2|\n",
      "|         16|    2|\n",
      "|         19|    1|\n",
      "|         21|    1|\n",
      "|         22|    1|\n",
      "|         28|    1|\n",
      "|         31|    1|\n",
      "|         39|    1|\n",
      "|         42|    1|\n",
      "|         43|    1|\n",
      "|         44|    1|\n",
      "|         45|    2|\n",
      "|         48|    1|\n",
      "|         53|    1|\n",
      "|         54|    1|\n",
      "+-----------+-----+\n",
      "only showing top 20 rows\n"
     ]
    }
   ],
   "source": [
    "partitioned_by_column.withColumn(\"PartitionID\",spark_partition_id()).groupBy(\"PartitionID\").count().show()\n",
    "# we were having less values 255 and number of parttitions werer 300 , so null in remeaning values\n"
   ]
  },
  {
   "cell_type": "markdown",
   "id": "cd6216c1-09aa-45a7-9f1f-7d8a2fb5a18d",
   "metadata": {},
   "source": [
    "# Coalsence"
   ]
  },
  {
   "cell_type": "code",
   "execution_count": 131,
   "id": "40c81495-812f-44dc-a34d-ac1d9cd97322",
   "metadata": {},
   "outputs": [],
   "source": [
    "coalesce_flight_df = df_Flight_Data.repartition(8)"
   ]
  },
  {
   "cell_type": "code",
   "execution_count": 132,
   "id": "d086bb58-0961-4e94-84c6-c19f76fe529d",
   "metadata": {},
   "outputs": [
    {
     "name": "stdout",
     "output_type": "stream",
     "text": [
      "+-----------+-----+\n",
      "|PartitionID|count|\n",
      "+-----------+-----+\n",
      "|          0|   32|\n",
      "|          1|   31|\n",
      "|          2|   32|\n",
      "|          3|   32|\n",
      "|          4|   32|\n",
      "|          5|   32|\n",
      "|          6|   32|\n",
      "|          7|   32|\n",
      "+-----------+-----+\n",
      "\n"
     ]
    }
   ],
   "source": [
    "coalesce_flight_df.withColumn(\"PartitionID\",spark_partition_id()).groupBy(\"PartitionID\").count().show()\n"
   ]
  },
  {
   "cell_type": "code",
   "execution_count": 133,
   "id": "47524415-db23-49cf-8949-3da23ed25eee",
   "metadata": {},
   "outputs": [],
   "source": [
    "# reduce to 3 \n",
    "\n",
    "three_col_partition = coalesce_flight_df.coalesce(3)\n"
   ]
  },
  {
   "cell_type": "code",
   "execution_count": 134,
   "id": "91d9940d-f757-4f6d-a2c0-c2e4c39d0c7c",
   "metadata": {},
   "outputs": [
    {
     "name": "stdout",
     "output_type": "stream",
     "text": [
      "+-----------+-----+\n",
      "|PartitionID|count|\n",
      "+-----------+-----+\n",
      "|          0|   64|\n",
      "|          1|   95|\n",
      "|          2|   96|\n",
      "+-----------+-----+\n",
      "\n"
     ]
    }
   ],
   "source": [
    "three_col_partition.withColumn(\"PartitionID\",spark_partition_id()).groupBy(\"PartitionID\").count().show()\n",
    "# not evenly distributed, "
   ]
  },
  {
   "cell_type": "markdown",
   "id": "296a4300-904c-4b80-986c-203ffb6dc6c6",
   "metadata": {},
   "source": [
    "# Case When, When Otherwise/ Null values dealing \n"
   ]
  },
  {
   "cell_type": "code",
   "execution_count": 135,
   "id": "4d52268d-eea2-4dc7-b55b-33c2e9bfc0c5",
   "metadata": {},
   "outputs": [
    {
     "name": "stdout",
     "output_type": "stream",
     "text": [
      "+--------------------+-------------------+-----+\n",
      "|   DEST_COUNTRY_NAME|ORIGIN_COUNTRY_NAME|count|\n",
      "+--------------------+-------------------+-----+\n",
      "|       United States|            Romania|    1|\n",
      "|       United States|            Ireland|  264|\n",
      "|       United States|              India|   69|\n",
      "|               Egypt|      United States|   24|\n",
      "|   Equatorial Guinea|      United States|    1|\n",
      "|       United States|          Singapore|   25|\n",
      "|       United States|            Grenada|   54|\n",
      "|          Costa Rica|      United States|  477|\n",
      "|             Senegal|      United States|   29|\n",
      "|       United States|   Marshall Islands|   44|\n",
      "|              Guyana|      United States|   17|\n",
      "|       United States|       Sint Maarten|   53|\n",
      "|               Malta|      United States|    1|\n",
      "|             Bolivia|      United States|   46|\n",
      "|            Anguilla|      United States|   21|\n",
      "|Turks and Caicos ...|      United States|  136|\n",
      "|       United States|        Afghanistan|    2|\n",
      "|Saint Vincent and...|      United States|    1|\n",
      "|               Italy|      United States|  390|\n",
      "|       United States|             Russia|  156|\n",
      "+--------------------+-------------------+-----+\n",
      "only showing top 20 rows\n"
     ]
    }
   ],
   "source": [
    "df_Flight_Data.show()"
   ]
  },
  {
   "cell_type": "code",
   "execution_count": 136,
   "id": "dafe359c-d859-4490-9d4c-95c63de8c12e",
   "metadata": {},
   "outputs": [
    {
     "name": "stdout",
     "output_type": "stream",
     "text": [
      "+--------------------+-------------------+-----+---------------+\n",
      "|   DEST_COUNTRY_NAME|ORIGIN_COUNTRY_NAME|count|Frequent Travel|\n",
      "+--------------------+-------------------+-----+---------------+\n",
      "|       United States|            Romania|    1|Need to Improve|\n",
      "|       United States|            Ireland|  264|     Medium Yes|\n",
      "|       United States|              India|   69|Need to Improve|\n",
      "|               Egypt|      United States|   24|Need to Improve|\n",
      "|   Equatorial Guinea|      United States|    1|Need to Improve|\n",
      "|       United States|          Singapore|   25|Need to Improve|\n",
      "|       United States|            Grenada|   54|Need to Improve|\n",
      "|          Costa Rica|      United States|  477|     Medium Yes|\n",
      "|             Senegal|      United States|   29|Need to Improve|\n",
      "|       United States|   Marshall Islands|   44|Need to Improve|\n",
      "|              Guyana|      United States|   17|Need to Improve|\n",
      "|       United States|       Sint Maarten|   53|Need to Improve|\n",
      "|               Malta|      United States|    1|Need to Improve|\n",
      "|             Bolivia|      United States|   46|Need to Improve|\n",
      "|            Anguilla|      United States|   21|Need to Improve|\n",
      "|Turks and Caicos ...|      United States|  136|     Medium Yes|\n",
      "|       United States|        Afghanistan|    2|Need to Improve|\n",
      "|Saint Vincent and...|      United States|    1|Need to Improve|\n",
      "|               Italy|      United States|  390|     Medium Yes|\n",
      "|       United States|             Russia|  156|     Medium Yes|\n",
      "+--------------------+-------------------+-----+---------------+\n",
      "only showing top 20 rows\n"
     ]
    }
   ],
   "source": [
    "from pyspark.sql.functions import when, col\n",
    "df_Flight_Data.withColumn('Frequent Travel', when(col('count') > 100, 'Medium Yes')\n",
    "                                             .when(col('count') > 200,'Too Frequent')\n",
    "                                             .otherwise ('Need to Improve')).show()"
   ]
  },
  {
   "cell_type": "code",
   "execution_count": 137,
   "id": "e4a3cb9c-a3e3-4ae6-9921-529fa286f6b9",
   "metadata": {},
   "outputs": [
    {
     "name": "stdout",
     "output_type": "stream",
     "text": [
      "+--------------------+-------------------+-----+-------------+\n",
      "|   DEST_COUNTRY_NAME|ORIGIN_COUNTRY_NAME|count| Null Details|\n",
      "+--------------------+-------------------+-----+-------------+\n",
      "|       United States|            Romania|    1|  KEEP FLIGHT|\n",
      "|       United States|            Ireland|  264|  KEEP FLIGHT|\n",
      "|       United States|              India|   69|  KEEP FLIGHT|\n",
      "|               Egypt|      United States|   24|  KEEP FLIGHT|\n",
      "|   Equatorial Guinea|      United States|    1|  KEEP FLIGHT|\n",
      "|       United States|          Singapore|   25|  KEEP FLIGHT|\n",
      "|       United States|            Grenada|   54|  KEEP FLIGHT|\n",
      "|          Costa Rica|      United States|  477|  KEEP FLIGHT|\n",
      "|             Senegal|      United States|   29|  KEEP FLIGHT|\n",
      "|       United States|   Marshall Islands|   44|  KEEP FLIGHT|\n",
      "|              Guyana|      United States|   17|  KEEP FLIGHT|\n",
      "|       United States|       Sint Maarten|   53|  KEEP FLIGHT|\n",
      "|               Malta|      United States|    1|  KEEP FLIGHT|\n",
      "|             Bolivia|      United States|   46|  KEEP FLIGHT|\n",
      "|            Anguilla|      United States|   21|  KEEP FLIGHT|\n",
      "|Turks and Caicos ...|      United States|  136|  KEEP FLIGHT|\n",
      "|       United States|        Afghanistan|    2|cancle Flight|\n",
      "|Saint Vincent and...|      United States|    1|  KEEP FLIGHT|\n",
      "|               Italy|      United States|  390|  KEEP FLIGHT|\n",
      "|       United States|             Russia|  156|  KEEP FLIGHT|\n",
      "+--------------------+-------------------+-----+-------------+\n",
      "only showing top 20 rows\n"
     ]
    }
   ],
   "source": [
    "# null values \n",
    "\n",
    "\n",
    "from pyspark.sql.functions import when, col, lit\n",
    "\n",
    "df_Flight_Data.withColumn(\n",
    "    'count', \n",
    "    when(col('count').isNull(), lit(1)).otherwise(col('count'))\n",
    ").withColumn(\n",
    "    'Null Details', \n",
    "    when(col('ORIGIN_COUNTRY_NAME') == 'Afghanistan', 'cancle Flight')\n",
    "    .otherwise('KEEP FLIGHT')\n",
    ").show()\n"
   ]
  },
  {
   "cell_type": "code",
   "execution_count": 138,
   "id": "2cdc174c-94c8-4b6c-a5de-03b944f98965",
   "metadata": {},
   "outputs": [],
   "source": [
    "df_Flight_Data.createOrReplaceTempView('FlightSQLWhenOtherWise')"
   ]
  },
  {
   "cell_type": "code",
   "execution_count": 139,
   "id": "e0200c91-8899-457d-8242-8bc762f060eb",
   "metadata": {},
   "outputs": [
    {
     "name": "stdout",
     "output_type": "stream",
     "text": [
      "+-------------+\n",
      "|FlightDetails|\n",
      "+-------------+\n",
      "|  Keep Flight|\n",
      "|  Keep Flight|\n",
      "|  Keep Flight|\n",
      "|  Keep Flight|\n",
      "|  Keep Flight|\n",
      "|  Keep Flight|\n",
      "|  Keep Flight|\n",
      "|  Keep Flight|\n",
      "|  Keep Flight|\n",
      "|  Keep Flight|\n",
      "|  Keep Flight|\n",
      "|  Keep Flight|\n",
      "|  Keep Flight|\n",
      "|  Keep Flight|\n",
      "|  Keep Flight|\n",
      "|  Keep Flight|\n",
      "|Cancel Flight|\n",
      "|  Keep Flight|\n",
      "|  Keep Flight|\n",
      "|  Keep Flight|\n",
      "+-------------+\n",
      "only showing top 20 rows\n"
     ]
    }
   ],
   "source": [
    "spark.sql(\"\"\"\n",
    "SELECT  \n",
    "  CASE \n",
    "    WHEN ORIGIN_COUNTRY_NAME = 'Afghanistan' THEN 'Cancel Flight'\n",
    "    ELSE 'Keep Flight'\n",
    "  END AS FlightDetails\n",
    "FROM FlightSQLWhenOtherWise\n",
    "\"\"\").show()\n"
   ]
  },
  {
   "cell_type": "code",
   "execution_count": 140,
   "id": "babb00a0-f07b-44e7-ab72-0f9be3e889e3",
   "metadata": {},
   "outputs": [
    {
     "name": "stdout",
     "output_type": "stream",
     "text": [
      "+---------------+\n",
      "|  FlightDetails|\n",
      "+---------------+\n",
      "|    Keep Flight|\n",
      "|    Keep Flight|\n",
      "|    Keep Flight|\n",
      "|    Keep Flight|\n",
      "|    Keep Flight|\n",
      "|    Keep Flight|\n",
      "|    Keep Flight|\n",
      "|    Keep Flight|\n",
      "|    Keep Flight|\n",
      "|    Keep Flight|\n",
      "|    Keep Flight|\n",
      "|Rerrange Flight|\n",
      "|    Keep Flight|\n",
      "|    Keep Flight|\n",
      "|    Keep Flight|\n",
      "|    Keep Flight|\n",
      "|  Cancel Flight|\n",
      "|    Keep Flight|\n",
      "|    Keep Flight|\n",
      "|    Keep Flight|\n",
      "+---------------+\n",
      "only showing top 20 rows\n"
     ]
    }
   ],
   "source": [
    "spark.sql(\"\"\"\n",
    "SELECT  \n",
    "  CASE \n",
    "    WHEN ORIGIN_COUNTRY_NAME = 'Afghanistan' THEN 'Cancel Flight' \n",
    "    WHEN ORIGIN_COUNTRY_NAME = 'Sint Maarten' THEN 'Rerrange Flight'\n",
    "    ELSE 'Keep Flight'\n",
    "  END AS FlightDetails\n",
    "FROM FlightSQLWhenOtherWise\n",
    "\"\"\").show()\n"
   ]
  },
  {
   "cell_type": "markdown",
   "id": "9477d9f6-b0d5-4b6c-8943-1eb77cc1e8ad",
   "metadata": {},
   "source": [
    "# Unbique Value, Drop Duplicates , Sort Data In Asc and Desc value. "
   ]
  },
  {
   "cell_type": "code",
   "execution_count": null,
   "id": "2fcd6aad-6526-4064-8259-757033e9d7a8",
   "metadata": {},
   "outputs": [],
   "source": [
    "from pyspark.sql import SparkSession\n",
    "from pyspark.sql.types import StructType, StructField, IntegerType, StringType\n",
    "\n",
    "data = [\n",
    "    (10 ,'Anil',50000, 18),\n",
    "    (11 ,'Vikas',75000, 16),\n",
    "    (12 ,'Nisha',40000, 18),\n",
    "    (13 ,'Nidhi',60000, 17),\n",
    "    (14 ,'Priya',80000, 18),\n",
    "    (15 ,'Mohit',45000, 18),\n",
    "    (16 ,'Rajesh',90000, 10),\n",
    "    (17 ,'Raman',55000, 16),\n",
    "    (18 ,'Sam',65000, 17),\n",
    "    (15 ,'Mohit',45000, 18),\n",
    "    (13 ,'Nidhi',60000, 17),      \n",
    "    (14 ,'Priya',90000, 18),  \n",
    "    (18 ,'Sam',65000, 17)\n",
    "]\n",
    "\n",
    "schema = StructType([\n",
    "    StructField(\"id\", IntegerType(), True),\n",
    "    StructField(\"name\", StringType(), True),\n",
    "    StructField(\"salary\", IntegerType(), True),\n",
    "    StructField(\"age\", IntegerType(), True)\n",
    "])\n",
    "\n",
    "df = spark.createDataFrame(data, schema)\n",
    "df.show()\n"
   ]
  },
  {
   "cell_type": "code",
   "execution_count": null,
   "id": "ddfc021b-c121-44cc-9b57-d7c7c0943e58",
   "metadata": {},
   "outputs": [],
   "source": [
    "# find the unique values\n",
    "df.distinct().show()\n"
   ]
  },
  {
   "cell_type": "code",
   "execution_count": null,
   "id": "09fd3a79-126c-4f5b-b91e-589f7b64c5fd",
   "metadata": {},
   "outputs": [],
   "source": [
    "df.select(\"id\",'name').distinct().show()\n"
   ]
  },
  {
   "cell_type": "code",
   "execution_count": null,
   "id": "e44e2f75-0594-41f7-9578-17dee9f6f4e4",
   "metadata": {},
   "outputs": [],
   "source": [
    "# drop duplicates\n",
    "df.drop_duplicates(subset=['id'])\n"
   ]
  },
  {
   "cell_type": "code",
   "execution_count": null,
   "id": "6cc4ff5d-e3d7-4dbf-857a-06648531e03e",
   "metadata": {},
   "outputs": [],
   "source": [
    "# Sort \n",
    "df.sort(col('id'),asc).show()\n",
    "df.sort(col('id'),desc).show()"
   ]
  },
  {
   "cell_type": "markdown",
   "id": "1af0ea2e-88d3-49e8-ad11-3717c56e6090",
   "metadata": {},
   "source": [
    "# Aggregation "
   ]
  },
  {
   "cell_type": "code",
   "execution_count": null,
   "id": "08df7cda-0a25-4476-a62a-b4cd5943c214",
   "metadata": {},
   "outputs": [],
   "source": [
    "# count, action and transformation \n",
    "df.select(count('id')).show() # for perticular column\n",
    "df.count() # for all dataframe\n",
    "df.select(count(*))\n"
   ]
  },
  {
   "cell_type": "code",
   "execution_count": null,
   "id": "58b067e8-d194-4678-8aaf-96a9ea3e5019",
   "metadata": {},
   "outputs": [],
   "source": [
    "# min\n",
    "df.select(sum('salary').alies ('Total Salary'), max('salary').alies('Max Salary'),min('Salary').alias('Min Salary')).show()"
   ]
  },
  {
   "cell_type": "code",
   "execution_count": null,
   "id": "eb3080a6-af0f-4ee9-a720-af9aa6999a70",
   "metadata": {},
   "outputs": [],
   "source": [
    "df.select(sum('salary').alies('Total Salary'),count('salary').alias('Count of Salary'), avg ('salary').alias('AverageSalary')).show()"
   ]
  },
  {
   "cell_type": "markdown",
   "id": "792259d4-580b-4801-a722-bbb9160e725d",
   "metadata": {},
   "source": [
    "# Group By|"
   ]
  },
  {
   "cell_type": "code",
   "execution_count": null,
   "id": "292224bf-c0b0-4cca-8d81-7c6776e45350",
   "metadata": {},
   "outputs": [],
   "source": [
    "df.groupBy(col('dept').agg(sum('salary').alias('Total Salary')))\n",
    "\n",
    "df.groupBy\n"
   ]
  },
  {
   "cell_type": "code",
   "execution_count": null,
   "id": "bcc5c63e-bddb-4913-a203-1a5a46adb4dc",
   "metadata": {},
   "outputs": [],
   "source": [
    "spark.sql(\"\"\"\n",
    "\n",
    "select Dept, sum(salary) as total_salary\n",
    "from table\n",
    "group by dept\n",
    "\n",
    "\"\"\")"
   ]
  },
  {
   "cell_type": "markdown",
   "id": "fa6e6fff-d027-4b12-8e15-55b8134e817f",
   "metadata": {},
   "source": [
    "# Join "
   ]
  },
  {
   "cell_type": "code",
   "execution_count": null,
   "id": "a7b0363e-caca-4d16-b746-6debf4fb71ef",
   "metadata": {},
   "outputs": [],
   "source": [
    "# inner Join \n",
    "\n",
    "df1.join(df2, df1['id']= df2['id'], 'inner').show()"
   ]
  },
  {
   "cell_type": "code",
   "execution_count": null,
   "id": "a29d95c9-c816-460b-b70b-a0674bc65316",
   "metadata": {},
   "outputs": [],
   "source": [
    "# left join \n",
    "\n",
    "df1.join(df2, df1['id']=df2['id'],'left').show()"
   ]
  }
 ],
 "metadata": {
  "kernelspec": {
   "display_name": "Python 3 (ipykernel)",
   "language": "python",
   "name": "python3"
  },
  "language_info": {
   "codemirror_mode": {
    "name": "ipython",
    "version": 3
   },
   "file_extension": ".py",
   "mimetype": "text/x-python",
   "name": "python",
   "nbconvert_exporter": "python",
   "pygments_lexer": "ipython3",
   "version": "3.12.7"
  }
 },
 "nbformat": 4,
 "nbformat_minor": 5
}
